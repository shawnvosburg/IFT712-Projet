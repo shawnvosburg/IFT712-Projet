{
 "cells": [
  {
   "cell_type": "markdown",
   "metadata": {},
   "source": [
    "# IFT-712 Semester Project\n",
    "\n",
    "Team Members\n",
    "------------------------------\n",
    "IDRISSI Ismail (idri3201)  \n",
    "SHAWN Vosburg (voss2502)\n",
    "\n"
   ]
  },
  {
   "cell_type": "markdown",
   "metadata": {},
   "source": [
    "# Results Analysis\n",
    "In this notebook, we are trying to make sense of the trainin results. More specifically, a model with specific hyperparameters will be chosen as the best model and be selected to train on the test set."
   ]
  },
  {
   "cell_type": "code",
   "execution_count": 33,
   "metadata": {},
   "outputs": [],
   "source": [
    "import json\n",
    "import matplotlib.pyplot as plt\n",
    "import pandas as pd\n",
    "import numpy as np\n",
    "import sys\n",
    "sys.path.append(\"..\")\n",
    "import src.Dispatcher\n",
    "from sklearn.metrics import confusion_matrix\n",
    "import seaborn as sns\n",
    "%reload_ext autoreload\n",
    "%autoreload 2\n"
   ]
  },
  {
   "cell_type": "markdown",
   "metadata": {},
   "source": [
    "## 1. Load Results"
   ]
  },
  {
   "cell_type": "code",
   "execution_count": 34,
   "metadata": {},
   "outputs": [
    {
     "name": "stdout",
     "output_type": "stream",
     "text": [
      "There are 13604 different models.\n"
     ]
    }
   ],
   "source": [
    "with open('../models/results/results.json') as f:\n",
    "    results = json.load(f)\n",
    "print(f'There are {len(results)} different models.')"
   ]
  },
  {
   "cell_type": "code",
   "execution_count": 35,
   "metadata": {},
   "outputs": [],
   "source": [
    "#Calculating FScore\n",
    "for key in results:\n",
    "    precision = np.float(results[key]['results']['Precision'])\n",
    "    recall = np.float(results[key]['results']['Recall'])\n",
    "    if(recall == 0.0 or precision == 0.0):\n",
    "        results[key]['results']['FScore'] = '0.000'\n",
    "    else:\n",
    "        results[key]['results']['FScore'] = str(2.0 / (1.0 / precision + 1.0 / recall))[:5]"
   ]
  },
  {
   "cell_type": "markdown",
   "metadata": {},
   "source": [
    "## 2. Finding best model for each classifier type"
   ]
  },
  {
   "cell_type": "code",
   "execution_count": 36,
   "metadata": {},
   "outputs": [
    {
     "name": "stdout",
     "output_type": "stream",
     "text": [
      "The classifier types are: {'GenerativeModel', 'SVM', 'KernelMethod', 'Perceptron', 'LogisticRegression', 'NeuralNetwork'}\n"
     ]
    }
   ],
   "source": [
    "# Unique Classifiers type\n",
    "classifiers = set(map(lambda x: results[x]['pipeline']['ClassificationParams']['classifier'],results))\n",
    "\n",
    "#Seperate results based of classifier\n",
    "classifierResults = {classifier:[] for classifier in classifiers}\n",
    "for result in results.values():\n",
    "    classifier = result['pipeline']['ClassificationParams']['classifier']\n",
    "    classifierResults[classifier].append(result)\n",
    "    \n",
    "print('The classifier types are:', classifiers)"
   ]
  },
  {
   "cell_type": "code",
   "execution_count": 37,
   "metadata": {},
   "outputs": [],
   "source": [
    "# For each classifier type, sort by best results\n",
    "sortedClassifiersBestAccuracy = {classifier:sorted( classifierResults[classifier], \n",
    "                                                    key = lambda x: x['results']['Accuracy'],\n",
    "                                                    reverse = True )[0] for classifier in classifiers}\n",
    "sortedClassifiersBestRecall   = {classifier:sorted( classifierResults[classifier], \n",
    "                                                    key = lambda x: x['results']['Recall'],\n",
    "                                                    reverse = True )[0] for classifier in classifiers}\n",
    "sortedClassifiersBestPrecision= {classifier:sorted( classifierResults[classifier], \n",
    "                                                    key = lambda x: x['results']['Precision'],\n",
    "                                                    reverse = True )[0] for classifier in classifiers}\n",
    "sortedClassifiersBestFScore   = {classifier:sorted( classifierResults[classifier], \n",
    "                                                    key = lambda x: x['results']['FScore'],\n",
    "                                                    reverse = True )[0] for classifier in classifiers}"
   ]
  },
  {
   "cell_type": "code",
   "execution_count": 38,
   "metadata": {},
   "outputs": [],
   "source": [
    "def pprintBestResults(bestModels,metric):\n",
    "    \"\"\"\n",
    "    Method that will nicely display the results\n",
    "    \n",
    "    \n",
    "    bestModels: best model for each classifier type\n",
    "    metric: str of Metric to be used.\n",
    "    \"\"\"\n",
    "    classifiers = set(bestModels)\n",
    "    DataManagerParams    = {classifier:bestModels[classifier]['pipeline']['DataManagementParams']['cmds'] \n",
    "                                                                                     for classifier in classifiers}\n",
    "    ClassificationParams = {classifier:bestModels[classifier]['pipeline']['ClassificationParams'] \n",
    "                                                                                     for classifier in classifiers}\n",
    "    metricResults = {classifier:bestModels[classifier]['results'][metric] for classifier in classifiers} \n",
    "          \n",
    "    columns = ['PreProcessing1', 'PreProcessing2', 'Hyperparams', metric]\n",
    "    df = pd.DataFrame(np.full((len(classifiers), 4), np.nan), columns = columns, index = classifiers)\n",
    "    for classifier in sorted(metricResults,key = lambda x: metricResults[x], reverse = True):\n",
    "        out = f\"For {classifier}, the model with the best {metric} of {metricResults[classifier]}\\n\\thas hyperparameters: \"\n",
    "        hyperparams = ClassificationParams[classifier] .copy()\n",
    "        del hyperparams['classifier']\n",
    "        hyperparams = [f'{hp}={str(hyperparams[hp])[:5]}' for hp in hyperparams]\n",
    "        preprocessing = [preprocess['method'] for preprocess in DataManagerParams[classifier]]\n",
    "        \n",
    "        \n",
    "        df.loc[classifier] = np.array([preprocessing[0],preprocessing[1],hyperparams,metricResults[classifier] ])\n",
    "        df.sort_values(metric,axis=0, inplace=True, ascending = False)\n",
    "    \n",
    "    #Printing\n",
    "    pd.set_option('display.max_rows', 500)\n",
    "    pd.set_option('display.max_columns', 500)\n",
    "    pd.set_option('display.width', 150)\n",
    "    pd.set_option('display.max_colwidth', -1)\n",
    "    print('RESULTS')\n",
    "    print(df.drop('Hyperparams', axis = 1))\n",
    "    print('\\nHYPERPARAMS')\n",
    "    print(df['Hyperparams'])"
   ]
  },
  {
   "cell_type": "markdown",
   "metadata": {},
   "source": [
    "### 2.1 Accuracy"
   ]
  },
  {
   "cell_type": "code",
   "execution_count": 39,
   "metadata": {},
   "outputs": [
    {
     "name": "stdout",
     "output_type": "stream",
     "text": [
      "RESULTS\n",
      "                    PreProcessing1 PreProcessing2 Accuracy\n",
      "SVM                 Normalize       PCA            0.985  \n",
      "KernelMethod        StandardScaler  PCA            0.984  \n",
      "NeuralNetwork       Normalize       PCA            0.984  \n",
      "LogisticRegression  Normalize       PCA            0.977  \n",
      "Perceptron          StandardScaler  PCA            0.927  \n",
      "GenerativeModel     StandardScaler  PCA            0.822  \n",
      "\n",
      "HYPERPARAMS\n",
      "SVM                   [C=1.623, kernel=linea, degree=2, gamma=1e-09]                                                         \n",
      "KernelMethod          [alpha=0.000, kernel=rbf, gamma=0.002]                                                                 \n",
      "NeuralNetwork         [hidden_layer_sizes=100, activation=relu, solver=adam, alpha=9.080, learning_rate=invsc, max_iter=1000]\n",
      "LogisticRegression    [solver=libli, random_state=0, penalty=l2, tol=0.000, C=78.47]                                         \n",
      "Perceptron            [loss=perce, penalty=l2, alpha=0.022, learning_rate=invsc, eta0=1]                                     \n",
      "GenerativeModel       []                                                                                                     \n",
      "Name: Hyperparams, dtype: object\n"
     ]
    }
   ],
   "source": [
    "pprintBestResults(sortedClassifiersBestAccuracy, 'Accuracy')"
   ]
  },
  {
   "cell_type": "markdown",
   "metadata": {},
   "source": [
    "### 2.2 Precision"
   ]
  },
  {
   "cell_type": "code",
   "execution_count": 40,
   "metadata": {},
   "outputs": [
    {
     "name": "stdout",
     "output_type": "stream",
     "text": [
      "RESULTS\n",
      "                    PreProcessing1 PreProcessing2 Precision\n",
      "SVM                 Normalize       PCA            0.986   \n",
      "KernelMethod        Normalize       PCA            0.986   \n",
      "NeuralNetwork       Normalize       PCA            0.986   \n",
      "LogisticRegression  Normalize       PCA            0.978   \n",
      "Perceptron          StandardScaler  PCA            0.938   \n",
      "GenerativeModel     StandardScaler  PCA            0.895   \n",
      "\n",
      "HYPERPARAMS\n",
      "SVM                   [C=1.623, kernel=linea, degree=2, gamma=1e-09]                                                         \n",
      "KernelMethod          [alpha=0.022, kernel=rbf, gamma=0.067]                                                                 \n",
      "NeuralNetwork         [hidden_layer_sizes=100, activation=relu, solver=adam, alpha=9.080, learning_rate=invsc, max_iter=1000]\n",
      "LogisticRegression    [solver=libli, random_state=0, penalty=l2, tol=0.000, C=78.47]                                         \n",
      "Perceptron            [loss=perce, penalty=l2, alpha=0.022, learning_rate=invsc, eta0=1]                                     \n",
      "GenerativeModel       []                                                                                                     \n",
      "Name: Hyperparams, dtype: object\n"
     ]
    }
   ],
   "source": [
    "pprintBestResults(sortedClassifiersBestPrecision, 'Precision')"
   ]
  },
  {
   "cell_type": "markdown",
   "metadata": {},
   "source": [
    "### 2.3 Recall"
   ]
  },
  {
   "cell_type": "code",
   "execution_count": 41,
   "metadata": {},
   "outputs": [
    {
     "name": "stdout",
     "output_type": "stream",
     "text": [
      "RESULTS\n",
      "                    PreProcessing1 PreProcessing2 Recall\n",
      "SVM                 Normalize       PCA            0.986\n",
      "KernelMethod        StandardScaler  PCA            0.984\n",
      "NeuralNetwork       Normalize       PCA            0.984\n",
      "LogisticRegression  Normalize       PCA            0.976\n",
      "Perceptron          StandardScaler  PCA            0.921\n",
      "GenerativeModel     StandardScaler  PCA            0.792\n",
      "\n",
      "HYPERPARAMS\n",
      "SVM                   [C=1.623, kernel=linea, degree=2, gamma=1e-09]                                                         \n",
      "KernelMethod          [alpha=0.022, kernel=rbf, gamma=0.002]                                                                 \n",
      "NeuralNetwork         [hidden_layer_sizes=200, activation=tanh, solver=adam, alpha=2.671, learning_rate=invsc, max_iter=1000]\n",
      "LogisticRegression    [solver=libli, random_state=0, penalty=l2, tol=0.000, C=78.47]                                         \n",
      "Perceptron            [loss=perce, penalty=l2, alpha=0.022, learning_rate=invsc, eta0=1]                                     \n",
      "GenerativeModel       []                                                                                                     \n",
      "Name: Hyperparams, dtype: object\n"
     ]
    }
   ],
   "source": [
    "pprintBestResults(sortedClassifiersBestRecall, 'Recall')"
   ]
  },
  {
   "cell_type": "markdown",
   "metadata": {},
   "source": [
    "### 2.4 FScore"
   ]
  },
  {
   "cell_type": "code",
   "execution_count": 42,
   "metadata": {},
   "outputs": [
    {
     "name": "stdout",
     "output_type": "stream",
     "text": [
      "RESULTS\n",
      "                    PreProcessing1 PreProcessing2 FScore\n",
      "SVM                 Normalize       PCA            0.986\n",
      "KernelMethod        StandardScaler  PCA            0.984\n",
      "NeuralNetwork       Normalize       PCA            0.984\n",
      "LogisticRegression  Normalize       PCA            0.976\n",
      "Perceptron          StandardScaler  PCA            0.929\n",
      "GenerativeModel     StandardScaler  PCA            0.840\n",
      "\n",
      "HYPERPARAMS\n",
      "SVM                   [C=1.623, kernel=linea, degree=2, gamma=1e-09]                                                         \n",
      "KernelMethod          [alpha=0.022, kernel=rbf, gamma=0.002]                                                                 \n",
      "NeuralNetwork         [hidden_layer_sizes=100, activation=relu, solver=adam, alpha=9.080, learning_rate=invsc, max_iter=1000]\n",
      "LogisticRegression    [solver=libli, random_state=0, penalty=l2, tol=0.000, C=78.47]                                         \n",
      "Perceptron            [loss=perce, penalty=l2, alpha=0.022, learning_rate=invsc, eta0=1]                                     \n",
      "GenerativeModel       []                                                                                                     \n",
      "Name: Hyperparams, dtype: object\n"
     ]
    }
   ],
   "source": [
    "pprintBestResults(sortedClassifiersBestFScore, 'FScore')"
   ]
  },
  {
   "cell_type": "markdown",
   "metadata": {},
   "source": [
    "### SVM with Normalize and PCA is our clear winner here. This is our chosen model.\n",
    "Classifier: SVM  \n",
    "Hyperparameters:  \n",
    "C=1.623,\n",
    "kernel=linear,\n",
    "degree=2,\n",
    "gamma=1e-09  \n"
   ]
  },
  {
   "cell_type": "code",
   "execution_count": 43,
   "metadata": {},
   "outputs": [
    {
     "data": {
      "text/plain": [
       "{'pipeline': {'DataManagementParams': {'seed': 16082604,\n",
       "   'cmds': [{'method': 'Normalize', 'hyperparams': {}},\n",
       "    {'method': 'PCA', 'hyperparams': {'n_components': 100}}]},\n",
       "  'ClassificationParams': {'classifier': 'SVM',\n",
       "   'C': 1.623776739188721,\n",
       "   'kernel': 'linear',\n",
       "   'degree': 2,\n",
       "   'gamma': 1e-09},\n",
       "  'StatisticianParams': ['Accuracy', 'Precision', 'Recall']},\n",
       " 'results': {'Accuracy': '0.985',\n",
       "  'Precision': '0.986',\n",
       "  'Recall': '0.986',\n",
       "  'FScore': '0.986'}}"
      ]
     },
     "execution_count": 43,
     "metadata": {},
     "output_type": "execute_result"
    }
   ],
   "source": [
    "sortedClassifiersBestFScore['SVM']"
   ]
  },
  {
   "cell_type": "markdown",
   "metadata": {},
   "source": [
    "## Results on Test Set\n",
    "For the best F-Score result of each classifier type, we will be running on the test set and printing the results"
   ]
  },
  {
   "cell_type": "code",
   "execution_count": 44,
   "metadata": {},
   "outputs": [
    {
     "name": "stdout",
     "output_type": "stream",
     "text": [
      "                    Accuracy  Precision  Recall  FScore\n",
      "LogisticRegression  0.996     0.996      0.998   0.996 \n",
      "SVM                 0.996     0.996      0.995   0.995 \n",
      "NeuralNetwork       0.980     0.985      0.989   0.986 \n",
      "KernelMethod        0.992     0.986      0.985   0.985 \n",
      "Perceptron          0.972     0.962      0.959   0.960 \n",
      "GenerativeModel     0.879     0.897      0.892   0.894 \n"
     ]
    }
   ],
   "source": [
    "testSetResultsClassifiers = {}\n",
    "for classifier in classifiers:\n",
    "    testSetResults = src.Dispatcher.runTestSet(**sortedClassifiersBestFScore[classifier]['pipeline'])\n",
    "    precision = float(testSetResults['metrics']['Precision'])\n",
    "    recall = float(testSetResults['metrics']['Recall'])\n",
    "    if(recall == 0.0 or precision == 0.0):\n",
    "        testSetResults['metrics']['FScore'] = 0.0\n",
    "    else:\n",
    "        testSetResults['metrics']['FScore'] = str(2.0 / (1.0 / precision + 1.0 / recall))[:5]\n",
    "    testSetResultsClassifiers[classifier] = testSetResults\n",
    "\n",
    "#Printing sorted results\n",
    "resultsTestSet = pd.DataFrame(np.zeros((6, 4)), columns = ['Accuracy','Precision','Recall','FScore'],index = classifiers)\n",
    "for classifier in sorted(testSetResultsClassifiers, key = lambda x:testSetResultsClassifiers[x]['metrics']['FScore'],reverse = True): \n",
    "    for metric in testSetResultsClassifiers[classifier]['metrics']:\n",
    "        resultsTestSet.loc[classifier][metric] = testSetResultsClassifiers[classifier]['metrics'][metric]\n",
    "print(resultsTestSet.sort_values('FScore',axis=0,ascending = False))"
   ]
  },
  {
   "cell_type": "markdown",
   "metadata": {},
   "source": [
    "Surprising! The Logistic Regression has a better FScore than SVM, which was our previous winner. This result is meaning less as the chosen model has to stem from the cross-validation results but it is still interesting. All being said, the 0.001 difference between the two models is statistically insignificant. "
   ]
  },
  {
   "cell_type": "markdown",
   "metadata": {},
   "source": [
    "## Confusion Matrix with SVM model"
   ]
  },
  {
   "cell_type": "code",
   "execution_count": 13,
   "metadata": {},
   "outputs": [
    {
     "data": {
      "image/png": "[encoded data removed]",
      "text/plain": [
       "<Figure size 432x288 with 2 Axes>"
      ]
     },
     "metadata": {},
     "output_type": "display_data"
    }
   ],
   "source": [
    "# Generating Confusion matrix\n",
    "testSetResults = src.Dispatcher.runTestSet(**sortedClassifiersBestFScore['SVM']['pipeline'])\n",
    "predictions = testSetResults['predictions']\n",
    "truths = testSetResults['truths']\n",
    "sns.heatmap(confusion_matrix(truths,predictions))\n",
    "plt.xlabel('Predictions')\n",
    "plt.ylabel('Truths')\n",
    "plt.show()"
   ]
  },
  {
   "cell_type": "markdown",
   "metadata": {},
   "source": [
    "We get a very distinct straight diagonal, indicating we have good results. "
   ]
  },
  {
   "cell_type": "markdown",
   "metadata": {},
   "source": [
    "## Average results from preprocessing combination\n",
    "\n",
    "Our team is curious to see if preprocessing differently changed anything in the performance. We will verify below."
   ]
  },
  {
   "cell_type": "code",
   "execution_count": 14,
   "metadata": {},
   "outputs": [],
   "source": [
    "def pprintPreprocessing(cmds):\n",
    "    return \"&\".join([cmd['method'] for cmd in cmds])\n",
    "preprocessCombinations = set(map(lambda x: pprintPreprocessing(results[x]['pipeline']['DataManagementParams']['cmds']), results))\n",
    "\n",
    "#Attach all results to their preprocessing combination\n",
    "preprocess = {combination:[] for combination in preprocessCombinations}\n",
    "for trial in results:\n",
    "    preprocess[pprintPreprocessing(results[trial]['pipeline']['DataManagementParams']['cmds'])].append(results[trial]['results'])\n",
    "    \n",
    "#Calculate average of metrics for every preprocess combination\n",
    "preprocessAvg = {}\n",
    "for combination in preprocessCombinations:\n",
    "    avgDict = {}\n",
    "    for metric in preprocess[combination][0].keys():\n",
    "        avgDict[metric] = sum(float(d[metric]) for d in preprocess[combination]) / len(preprocess[combination])\n",
    "    preprocessAvg[combination] = avgDict"
   ]
  },
  {
   "cell_type": "code",
   "execution_count": 57,
   "metadata": {},
   "outputs": [],
   "source": [
    "def sortPreProcessingByMetric(metric):\n",
    "    preprocessingSorted = sorted(preprocessAvg, key = lambda x: preprocessAvg[x][metric], reverse = True)\n",
    "    out = pd.DataFrame([],columns = [metric], index = preprocessingSorted)\n",
    "    for combination in preprocessingSorted:\n",
    "        out.loc[combination] = preprocessAvg[combination][metric]\n",
    "    print(out)"
   ]
  },
  {
   "cell_type": "code",
   "execution_count": 58,
   "metadata": {},
   "outputs": [
    {
     "name": "stdout",
     "output_type": "stream",
     "text": [
      "                                  Accuracy\n",
      "StandardScaler&PCA                0.622504\n",
      "StandardScaler&FeatureExtraction  0.580994\n",
      "Normalize&PCA                     0.541276\n",
      "Normalize&FeatureExtraction       0.475998\n"
     ]
    }
   ],
   "source": [
    "sortPreProcessingByMetric('Accuracy')"
   ]
  },
  {
   "cell_type": "code",
   "execution_count": 59,
   "metadata": {},
   "outputs": [
    {
     "name": "stdout",
     "output_type": "stream",
     "text": [
      "                                 Precision\n",
      "StandardScaler&PCA                0.628602\n",
      "StandardScaler&FeatureExtraction  0.586091\n",
      "Normalize&PCA                     0.543732\n",
      "Normalize&FeatureExtraction       0.478225\n"
     ]
    }
   ],
   "source": [
    "sortPreProcessingByMetric('Precision')"
   ]
  },
  {
   "cell_type": "code",
   "execution_count": 60,
   "metadata": {},
   "outputs": [
    {
     "name": "stdout",
     "output_type": "stream",
     "text": [
      "                                    Recall\n",
      "StandardScaler&PCA                0.614092\n",
      "StandardScaler&FeatureExtraction  0.571288\n",
      "Normalize&PCA                     0.53171 \n",
      "Normalize&FeatureExtraction       0.466512\n"
     ]
    }
   ],
   "source": [
    "sortPreProcessingByMetric('Recall')"
   ]
  },
  {
   "cell_type": "code",
   "execution_count": 61,
   "metadata": {},
   "outputs": [
    {
     "name": "stdout",
     "output_type": "stream",
     "text": [
      "                                    FScore\n",
      "StandardScaler&PCA                0.619947\n",
      "StandardScaler&FeatureExtraction  0.577322\n",
      "Normalize&PCA                     0.53648 \n",
      "Normalize&FeatureExtraction       0.470953\n"
     ]
    }
   ],
   "source": [
    "sortPreProcessingByMetric('FScore')"
   ]
  },
  {
   "cell_type": "markdown",
   "metadata": {},
   "source": [
    "The StandardScaler & PCA (with num_components = 100) seems to be the best combination of preprocessing out of the 4 combinations."
   ]
  }
 ],
 "metadata": {
  "kernelspec": {
   "display_name": "Python 3",
   "language": "python",
   "name": "python3"
  },
  "language_info": {
   "codemirror_mode": {
    "name": "ipython",
    "version": 3
   },
   "file_extension": ".py",
   "mimetype": "text/x-python",
   "name": "python",
   "nbconvert_exporter": "python",
   "pygments_lexer": "ipython3",
   "version": "3.6.5"
  }
 },
 "nbformat": 4,
 "nbformat_minor": 2
}
