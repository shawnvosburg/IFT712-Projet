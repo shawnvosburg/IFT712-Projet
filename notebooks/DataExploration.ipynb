{
 "cells": [
  {
   "cell_type": "markdown",
   "metadata": {},
   "source": [
    "# IFT-712 Semester Project\n",
    "\n",
    "Team Members\n",
    "------------------------------\n",
    "IDRISSI Ismail (idri3201)  \n",
    "SHAWN Vosburg (voss2502)\n",
    "\n"
   ]
  },
  {
   "cell_type": "markdown",
   "metadata": {},
   "source": [
    "# Data Exploration\n",
    "We will be exploring the data in this notebook to find clues as per its distribution. We first start by importing the data."
   ]
  },
  {
   "cell_type": "code",
   "execution_count": 118,
   "metadata": {
    "scrolled": true
   },
   "outputs": [
    {
     "name": "stdout",
     "output_type": "stream",
     "text": [
      "The total dataset is composed of 990 observations with dimentionality 192.\n"
     ]
    },
    {
     "data": {
      "text/html": [
       "<div>\n",
       "<style scoped>\n",
       "    .dataframe tbody tr th:only-of-type {\n",
       "        vertical-align: middle;\n",
       "    }\n",
       "\n",
       "    .dataframe tbody tr th {\n",
       "        vertical-align: top;\n",
       "    }\n",
       "\n",
       "    .dataframe thead th {\n",
       "        text-align: right;\n",
       "    }\n",
       "</style>\n",
       "<table border=\"1\" class=\"dataframe\">\n",
       "  <thead>\n",
       "    <tr style=\"text-align: right;\">\n",
       "      <th></th>\n",
       "      <th>margin1</th>\n",
       "      <th>margin2</th>\n",
       "      <th>margin3</th>\n",
       "      <th>margin4</th>\n",
       "      <th>margin5</th>\n",
       "      <th>margin6</th>\n",
       "      <th>margin7</th>\n",
       "      <th>margin8</th>\n",
       "      <th>margin9</th>\n",
       "      <th>margin10</th>\n",
       "      <th>...</th>\n",
       "      <th>texture55</th>\n",
       "      <th>texture56</th>\n",
       "      <th>texture57</th>\n",
       "      <th>texture58</th>\n",
       "      <th>texture59</th>\n",
       "      <th>texture60</th>\n",
       "      <th>texture61</th>\n",
       "      <th>texture62</th>\n",
       "      <th>texture63</th>\n",
       "      <th>texture64</th>\n",
       "    </tr>\n",
       "    <tr>\n",
       "      <th>id</th>\n",
       "      <th></th>\n",
       "      <th></th>\n",
       "      <th></th>\n",
       "      <th></th>\n",
       "      <th></th>\n",
       "      <th></th>\n",
       "      <th></th>\n",
       "      <th></th>\n",
       "      <th></th>\n",
       "      <th></th>\n",
       "      <th></th>\n",
       "      <th></th>\n",
       "      <th></th>\n",
       "      <th></th>\n",
       "      <th></th>\n",
       "      <th></th>\n",
       "      <th></th>\n",
       "      <th></th>\n",
       "      <th></th>\n",
       "      <th></th>\n",
       "      <th></th>\n",
       "    </tr>\n",
       "  </thead>\n",
       "  <tbody>\n",
       "    <tr>\n",
       "      <th>1</th>\n",
       "      <td>0.007812</td>\n",
       "      <td>0.023438</td>\n",
       "      <td>0.023438</td>\n",
       "      <td>0.003906</td>\n",
       "      <td>0.011719</td>\n",
       "      <td>0.009766</td>\n",
       "      <td>0.027344</td>\n",
       "      <td>0.0</td>\n",
       "      <td>0.001953</td>\n",
       "      <td>0.033203</td>\n",
       "      <td>...</td>\n",
       "      <td>0.007812</td>\n",
       "      <td>0.000000</td>\n",
       "      <td>0.002930</td>\n",
       "      <td>0.002930</td>\n",
       "      <td>0.035156</td>\n",
       "      <td>0.0</td>\n",
       "      <td>0.0</td>\n",
       "      <td>0.004883</td>\n",
       "      <td>0.000000</td>\n",
       "      <td>0.025391</td>\n",
       "    </tr>\n",
       "    <tr>\n",
       "      <th>2</th>\n",
       "      <td>0.005859</td>\n",
       "      <td>0.000000</td>\n",
       "      <td>0.031250</td>\n",
       "      <td>0.015625</td>\n",
       "      <td>0.025391</td>\n",
       "      <td>0.001953</td>\n",
       "      <td>0.019531</td>\n",
       "      <td>0.0</td>\n",
       "      <td>0.000000</td>\n",
       "      <td>0.007812</td>\n",
       "      <td>...</td>\n",
       "      <td>0.000977</td>\n",
       "      <td>0.000000</td>\n",
       "      <td>0.000000</td>\n",
       "      <td>0.000977</td>\n",
       "      <td>0.023438</td>\n",
       "      <td>0.0</td>\n",
       "      <td>0.0</td>\n",
       "      <td>0.000977</td>\n",
       "      <td>0.039062</td>\n",
       "      <td>0.022461</td>\n",
       "    </tr>\n",
       "    <tr>\n",
       "      <th>3</th>\n",
       "      <td>0.005859</td>\n",
       "      <td>0.009766</td>\n",
       "      <td>0.019531</td>\n",
       "      <td>0.007812</td>\n",
       "      <td>0.003906</td>\n",
       "      <td>0.005859</td>\n",
       "      <td>0.068359</td>\n",
       "      <td>0.0</td>\n",
       "      <td>0.000000</td>\n",
       "      <td>0.044922</td>\n",
       "      <td>...</td>\n",
       "      <td>0.154300</td>\n",
       "      <td>0.000000</td>\n",
       "      <td>0.005859</td>\n",
       "      <td>0.000977</td>\n",
       "      <td>0.007812</td>\n",
       "      <td>0.0</td>\n",
       "      <td>0.0</td>\n",
       "      <td>0.000000</td>\n",
       "      <td>0.020508</td>\n",
       "      <td>0.002930</td>\n",
       "    </tr>\n",
       "    <tr>\n",
       "      <th>5</th>\n",
       "      <td>0.000000</td>\n",
       "      <td>0.003906</td>\n",
       "      <td>0.023438</td>\n",
       "      <td>0.005859</td>\n",
       "      <td>0.021484</td>\n",
       "      <td>0.019531</td>\n",
       "      <td>0.023438</td>\n",
       "      <td>0.0</td>\n",
       "      <td>0.013672</td>\n",
       "      <td>0.017578</td>\n",
       "      <td>...</td>\n",
       "      <td>0.000000</td>\n",
       "      <td>0.000977</td>\n",
       "      <td>0.000000</td>\n",
       "      <td>0.000000</td>\n",
       "      <td>0.020508</td>\n",
       "      <td>0.0</td>\n",
       "      <td>0.0</td>\n",
       "      <td>0.017578</td>\n",
       "      <td>0.000000</td>\n",
       "      <td>0.047852</td>\n",
       "    </tr>\n",
       "    <tr>\n",
       "      <th>6</th>\n",
       "      <td>0.005859</td>\n",
       "      <td>0.003906</td>\n",
       "      <td>0.048828</td>\n",
       "      <td>0.009766</td>\n",
       "      <td>0.013672</td>\n",
       "      <td>0.015625</td>\n",
       "      <td>0.005859</td>\n",
       "      <td>0.0</td>\n",
       "      <td>0.000000</td>\n",
       "      <td>0.005859</td>\n",
       "      <td>...</td>\n",
       "      <td>0.096680</td>\n",
       "      <td>0.000000</td>\n",
       "      <td>0.021484</td>\n",
       "      <td>0.000000</td>\n",
       "      <td>0.000000</td>\n",
       "      <td>0.0</td>\n",
       "      <td>0.0</td>\n",
       "      <td>0.000000</td>\n",
       "      <td>0.000000</td>\n",
       "      <td>0.031250</td>\n",
       "    </tr>\n",
       "  </tbody>\n",
       "</table>\n",
       "<p>5 rows × 192 columns</p>\n",
       "</div>"
      ],
      "text/plain": [
       "     margin1   margin2   margin3   margin4   margin5   margin6   margin7  \\\n",
       "id                                                                         \n",
       "1   0.007812  0.023438  0.023438  0.003906  0.011719  0.009766  0.027344   \n",
       "2   0.005859  0.000000  0.031250  0.015625  0.025391  0.001953  0.019531   \n",
       "3   0.005859  0.009766  0.019531  0.007812  0.003906  0.005859  0.068359   \n",
       "5   0.000000  0.003906  0.023438  0.005859  0.021484  0.019531  0.023438   \n",
       "6   0.005859  0.003906  0.048828  0.009766  0.013672  0.015625  0.005859   \n",
       "\n",
       "    margin8   margin9  margin10    ...      texture55  texture56  texture57  \\\n",
       "id                                 ...                                        \n",
       "1       0.0  0.001953  0.033203    ...       0.007812   0.000000   0.002930   \n",
       "2       0.0  0.000000  0.007812    ...       0.000977   0.000000   0.000000   \n",
       "3       0.0  0.000000  0.044922    ...       0.154300   0.000000   0.005859   \n",
       "5       0.0  0.013672  0.017578    ...       0.000000   0.000977   0.000000   \n",
       "6       0.0  0.000000  0.005859    ...       0.096680   0.000000   0.021484   \n",
       "\n",
       "    texture58  texture59  texture60  texture61  texture62  texture63  \\\n",
       "id                                                                     \n",
       "1    0.002930   0.035156        0.0        0.0   0.004883   0.000000   \n",
       "2    0.000977   0.023438        0.0        0.0   0.000977   0.039062   \n",
       "3    0.000977   0.007812        0.0        0.0   0.000000   0.020508   \n",
       "5    0.000000   0.020508        0.0        0.0   0.017578   0.000000   \n",
       "6    0.000000   0.000000        0.0        0.0   0.000000   0.000000   \n",
       "\n",
       "    texture64  \n",
       "id             \n",
       "1    0.025391  \n",
       "2    0.022461  \n",
       "3    0.002930  \n",
       "5    0.047852  \n",
       "6    0.031250  \n",
       "\n",
       "[5 rows x 192 columns]"
      ]
     },
     "execution_count": 118,
     "metadata": {},
     "output_type": "execute_result"
    }
   ],
   "source": [
    "import pandas as pd\n",
    "import numpy as np\n",
    "import matplotlib.pyplot as plt\n",
    "from sklearn.decomposition import PCA\n",
    "from sklearn.preprocessing import (StandardScaler, MinMaxScaler)\n",
    "import sys\n",
    "sys.path.append(\"..\")\n",
    "from src.DataManagement.Manager import DataManager\n",
    "%reload_ext autoreload\n",
    "%autoreload 2\n",
    "\n",
    "\n",
    "dm = DataManager(seed = 16082604)\n",
    "dm.importData(label_name = 'species')\n",
    "print(f\"The total dataset is composed of {dm.df.shape[0]} observations with dimentionality {dm.df.shape[1]}.\")\n",
    "dm.df.head()"
   ]
  },
  {
   "cell_type": "markdown",
   "metadata": {},
   "source": [
    "If there were no errors above, then loading the data worked.   \n",
    "\n",
    "## Datasets Distributions\n",
    "We will now be looking at the data at the species-level."
   ]
  },
  {
   "cell_type": "code",
   "execution_count": 2,
   "metadata": {},
   "outputs": [
    {
     "name": "stdout",
     "output_type": "stream",
     "text": [
      "There are 99 species (i.e. classes) in the dataset.\n",
      "Each classes has a minimum of 10 and a maximum of 10 observations.\n"
     ]
    }
   ],
   "source": [
    "def classDistributions(data: pd.DataFrame, classes: pd.Series):\n",
    "    \"\"\"\n",
    "    Computes helpful distribution statistics about dataset\n",
    "    \"\"\"\n",
    "    species = set(classes)\n",
    "    maxNumObs = max([len(data[classes == s]) for s in species])\n",
    "    minNumObs = min([len(data[classes == s]) for s in species])\n",
    "    print(f'There are {len(species)} species (i.e. classes) in the dataset.')\n",
    "    print(f'Each classes has a minimum of {minNumObs} and a maximum of {maxNumObs} observations.')\n",
    "\n",
    "classDistributions(dm.df, dm.labels)"
   ]
  },
  {
   "cell_type": "markdown",
   "metadata": {},
   "source": [
    "We have determined that each classes contain **10 observations** before splitting the data into train and test datasets for cross validation. Now, let's split the dataset (with the seed = 16082604 as used during the project) and check the classes' distribution afterwards."
   ]
  },
  {
   "cell_type": "code",
   "execution_count": 3,
   "metadata": {},
   "outputs": [
    {
     "name": "stdout",
     "output_type": "stream",
     "text": [
      "Train + Validation dataset:\n",
      "There are 99 species (i.e. classes) in the dataset.\n",
      "Each classes has a minimum of 4 and a maximum of 10 observations.\n"
     ]
    }
   ],
   "source": [
    "dm.split_data(test_ratio = 0.1)\n",
    "print(\"Train + Validation dataset:\")\n",
    "classDistributions(dm.df_Train, dm.labels_Train)"
   ]
  },
  {
   "cell_type": "code",
   "execution_count": 4,
   "metadata": {},
   "outputs": [
    {
     "name": "stdout",
     "output_type": "stream",
     "text": [
      "Test dataset:\n",
      "There are 93 species (i.e. classes) in the dataset.\n",
      "Each classes has a minimum of 1 and a maximum of 6 observations.\n"
     ]
    }
   ],
   "source": [
    "print(\"Test dataset:\")\n",
    "classDistributions(dm.df_Test, dm.labels_Test)"
   ]
  },
  {
   "cell_type": "markdown",
   "metadata": {},
   "source": [
    "**Sanity Check**  \n",
    "Verify that every class in the test set is also present in the Train + Validation set"
   ]
  },
  {
   "cell_type": "code",
   "execution_count": 5,
   "metadata": {},
   "outputs": [
    {
     "name": "stdout",
     "output_type": "stream",
     "text": [
      "Sanity Check PASSED!\n"
     ]
    }
   ],
   "source": [
    "diffSets = set(dm.labels_Test) - set(dm.labels_Train)\n",
    "if(diffSets == set()):\n",
    "    print(\"Sanity Check PASSED!\")\n",
    "else:\n",
    "    print(\"Sanity Check FAILED!\")\n",
    "    raise ValueError(\"There are no training observations for classes \"+ str(diffSets))"
   ]
  },
  {
   "cell_type": "markdown",
   "metadata": {},
   "source": [
    "## 1) 2-D PCA Visualisation\n",
    "\n",
    "We want to try to visualise the classes distributions with PCA. We will first preprocess the data with sklearn's StandardScaler to normalize mean and variance of all variables. A 2-D graph with the 2 top principal components will then be generated. These components represent vectors in our 192-dimensional space that has the greatest variance. "
   ]
  },
  {
   "cell_type": "code",
   "execution_count": 7,
   "metadata": {},
   "outputs": [
    {
     "data": {
      "image/png": "[encoded data removed]",
      "text/plain": [
       "<Figure size 432x288 with 1 Axes>"
      ]
     },
     "metadata": {},
     "output_type": "display_data"
    }
   ],
   "source": [
    "np.random.seed(0)\n",
    "species = list(set(dm.labels))\n",
    "colorIdxs = list(map(lambda x: species.index(x), dm.labels))\n",
    "cmap = [np.random.rand(3,) for _ in range(len(colorIdxs))]\n",
    "colors = [cmap[idx] for idx in colorIdxs]\n",
    "\n",
    "pca = PCA(n_components=2)\n",
    "scaler = StandardScaler()\n",
    "standardScalerData = scaler.fit_transform(dm.df)\n",
    "pcaData = pca.fit_transform(standardScalerData)\n",
    "\n",
    "\n",
    "plt.scatter(pcaData[:,0],pcaData[:,1], c = colors )\n",
    "plt.title(\"LeafClassification dataset with its 2 Principal Components\")\n",
    "plt.xlabel(\"Principal Component #1\")\n",
    "plt.ylabel(\"Principal Component #2\")\n",
    "plt.show()"
   ]
  },
  {
   "cell_type": "markdown",
   "metadata": {},
   "source": [
    "With just the top 2 principal components (from a total of 192 principal components), we can already see some classes starting to seperate from the rest. More investigation is needed to determine the level of linear seperability.\n",
    "\n",
    "# 2) Determine which class is seperable with a hypersphere\n",
    "\n",
    "From the previous experiment, it is clear that some classes, after preprocessing with sklearn's StandardScaler, are seperable. To determine which class definitely is seperable in feature space, we can use the following algorithm:\n",
    "\n",
    "1. Calculate class center for each class\n",
    "2. Find the farthest point of each class belonging to that same class.\n",
    "3. Find the closest point of each class belonging to a different class.\n",
    "4. If the distance from step 2 is smaller than the distance from step 3, the class is linearly seperable.\n",
    "\n",
    "We are essentially determining if a sphere can be placed around the class cluster that will isolate it from other classes.\n",
    "\n",
    "We will be using this algorithm with unprocessed data, SciKit-Learn's StandardScaler and MinMixScaler. The MinMaxScaler is set to map all dimentions into a range [0,1]."
   ]
  },
  {
   "cell_type": "code",
   "execution_count": 122,
   "metadata": {},
   "outputs": [],
   "source": [
    "def classesSeperable(data: pd.DataFrame, labels: pd.DataFrame):\n",
    "    \"\"\"\n",
    "    Determines which classes can be seperated by a sphere around the class's cluster. Useful to definitely determine\n",
    "    if a class is seperable.\n",
    "    \"\"\"\n",
    "    speciesList = list(set(labels))\n",
    "\n",
    "    #Seperating Data into individual classes\n",
    "    speciesData = []\n",
    "    for species in speciesList:\n",
    "        indexes = labels[labels == species].index\n",
    "        speciesData.append(data.loc[indexes])\n",
    "\n",
    "    #Step 1. Finding mean of each data\n",
    "    averages = [df.values.mean(axis = 0) for df in speciesData]\n",
    "\n",
    "    #Step 2. Finding the fathest point's distance from same class\n",
    "    maxDistIntraList = [max(np.linalg.norm(classData - avg, axis = 1)) for classData, avg in zip(speciesData, averages)]\n",
    "\n",
    "    #Step 3. Finding the closest point from another class's distance \n",
    "    maxDistInterList = []\n",
    "    for classData, avg in zip(speciesData, averages):\n",
    "        minVal = min(np.linalg.norm(data.drop(classData.index) - avg, axis = 1))\n",
    "        maxDistInterList.append(minVal)\n",
    "\n",
    "    #Step 4. Print number of classes that are can be seperated \n",
    "    #        by englobing the class cluster with a sphere in feature space\n",
    "    seperableClasses = []\n",
    "    for className, maxDistIntra, minDistInter in zip(speciesList, maxDistIntraList, maxDistInterList):\n",
    "        if(maxDistIntra < minDistInter):\n",
    "            seperableClasses.append(className)\n",
    "    return seperableClasses"
   ]
  },
  {
   "cell_type": "code",
   "execution_count": 123,
   "metadata": {},
   "outputs": [
    {
     "name": "stdout",
     "output_type": "stream",
     "text": [
      "Without Sklearn's StandardScaler, There are definitely 26 seperable classes in higher dimentions.\n",
      "With Sklearn's MinMaxScaler, There are definitely 76 seperable classes in higher dimentions.\n",
      "With Sklearn's StandardScaler, There are definitely 68 seperable classes in higher dimentions.\n"
     ]
    }
   ],
   "source": [
    "#From the unprocessed dataset, how many classes are seperable?\n",
    "seperableClasses = classesSeperable(data = dm.df, labels = dm.labels)\n",
    "print(f\"Without Sklearn's StandardScaler, There are definitely {len(seperableClasses)} seperable classes in higher dimentions.\")\n",
    "\n",
    "#With SKlearn's MinMaxScaler, how many classes are seperable?\n",
    "preprocessedData = pd.DataFrame(MinMaxScaler().fit_transform(dm.df), index = dm.df.index)\n",
    "seperableClasses = classesSeperable(data = preprocessedData , labels = dm.labels)\n",
    "print(f\"With Sklearn's MinMaxScaler, There are definitely {len(seperableClasses)} seperable classes in higher dimentions.\")\n",
    "\n",
    "#With SKlearn's StandardScaler, how many classes are seperable?\n",
    "preprocessedData = pd.DataFrame(StandardScaler().fit_transform(dm.df), index = dm.df.index)\n",
    "seperableClasses = classesSeperable(data = preprocessedData , labels = dm.labels)\n",
    "print(f\"With Sklearn's StandardScaler, There are definitely {len(seperableClasses)} seperable classes in higher dimentions.\")\n"
   ]
  },
  {
   "cell_type": "markdown",
   "metadata": {},
   "source": [
    "From the dataset alone, **26/99 classes** are already seperable (not necessarly linearly seperable, but can definitely be seperated by a sphere).  \n",
    "By adding the MinMaxScaler, we obtain **76/99** classes that are seperable.  \n",
    "By adding the StandardScaler preprocessing step, we obtain **68/99** classes that are seperable.\n",
    "\n",
    "This experiment demonstrates how useful preprocessing is. Since so many classes are sperable with a hyper-sphere, our team hypothesize that a linear classifier with polynomial features (or a kernel replacing these features) will be successful at classifying these seperable classes. This stems from hyperspheres being defined as:\n",
    "    \n",
    "    C = sqrt(x1^2 + x2^2 + ... + xd^2)\n",
    "where C is a constant, and xn is a dimention in d-dimentional space."
   ]
  },
  {
   "cell_type": "code",
   "execution_count": null,
   "metadata": {},
   "outputs": [],
   "source": []
  }
 ],
 "metadata": {
  "kernelspec": {
   "display_name": "Python 3",
   "language": "python",
   "name": "python3"
  },
  "language_info": {
   "codemirror_mode": {
    "name": "ipython",
    "version": 3
   },
   "file_extension": ".py",
   "mimetype": "text/x-python",
   "name": "python",
   "nbconvert_exporter": "python",
   "pygments_lexer": "ipython3",
   "version": "3.6.5"
  }
 },
 "nbformat": 4,
 "nbformat_minor": 2
}
